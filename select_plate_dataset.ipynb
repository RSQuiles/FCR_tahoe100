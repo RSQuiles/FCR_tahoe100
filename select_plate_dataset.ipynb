{
 "cells": [
  {
   "cell_type": "code",
   "execution_count": 1,
   "id": "7659a649-de9f-45de-9375-703a429aaebd",
   "metadata": {},
   "outputs": [],
   "source": [
    "import warnings\n",
    "warnings.filterwarnings(\"ignore\",category=FutureWarning)\n",
    "\n",
    "import scanpy as sc\n",
    "import numpy as np\n",
    "from scipy import sparse\n",
    "import random\n",
    "import numpy as np\n",
    "import scipy.sparse as sp\n",
    "import pandas as pd\n",
    "import anndata as ad\n",
    "import json\n",
    "import argparse"
   ]
  },
  {
   "cell_type": "code",
   "execution_count": null,
   "id": "d3264d0b-b453-442f-b579-41afd48084af",
   "metadata": {},
   "outputs": [],
   "source": [
    "# Parse cell_lines and drugs from json file\n",
    "parser = argparse.ArgumentParser()\n",
    "parser.add_argument(\"-f\", type=str, help=\"Path to dataset_config.json file\")\n",
    "args = parser.parse_args()\n",
    "\n",
    "# Read dataset configuration\n",
    "config_path = args.f\n",
    "with open(config_path_path, \"r\") as f:\n",
    "    arguments = json.load(f)\n",
    "\n",
    "lines_select = arguments[\"cell_lines\"]\n",
    "control_name = \"DMSO_TF\"\n",
    "drugs_select = arguments[\"drugs\"]\n",
    "drugs_select.append(control_name)\n",
    "\n",
    "export_name = arguments[\"name\"]"
   ]
  },
  {
   "cell_type": "code",
   "execution_count": 3,
   "id": "4c5d2a80-4aad-4113-8835-7634fff535a1",
   "metadata": {
    "scrolled": true
   },
   "outputs": [
    {
     "name": "stdout",
     "output_type": "stream",
     "text": [
      "Inspecting metadata...\n",
      "Subsetting plate1...\n",
      "Subsetting plate10...\n",
      "Subsetting plate11...\n",
      "Subsetting plate12...\n"
     ]
    },
    {
     "ename": "KeyboardInterrupt",
     "evalue": "",
     "output_type": "error",
     "traceback": [
      "\u001b[0;31m---------------------------------------------------------------------------\u001b[0m",
      "\u001b[0;31mKeyboardInterrupt\u001b[0m                         Traceback (most recent call last)",
      "Cell \u001b[0;32mIn[3], line 26\u001b[0m\n\u001b[1;32m     23\u001b[0m adata \u001b[38;5;241m=\u001b[39m sc\u001b[38;5;241m.\u001b[39mread_h5ad(data_path, backed\u001b[38;5;241m=\u001b[39m\u001b[38;5;124m\"\u001b[39m\u001b[38;5;124mr\u001b[39m\u001b[38;5;124m\"\u001b[39m)\n\u001b[1;32m     24\u001b[0m ids \u001b[38;5;241m=\u001b[39m select[select[\u001b[38;5;124m\"\u001b[39m\u001b[38;5;124mplate\u001b[39m\u001b[38;5;124m\"\u001b[39m] \u001b[38;5;241m==\u001b[39m plate][\u001b[38;5;124m\"\u001b[39m\u001b[38;5;124mBARCODE_SUB_LIB_ID\u001b[39m\u001b[38;5;124m\"\u001b[39m]\u001b[38;5;241m.\u001b[39mvalues\n\u001b[0;32m---> 26\u001b[0m subset \u001b[38;5;241m=\u001b[39m \u001b[43madata\u001b[49m\u001b[43m[\u001b[49m\u001b[43madata\u001b[49m\u001b[38;5;241;43m.\u001b[39;49m\u001b[43mobs_names\u001b[49m\u001b[38;5;241;43m.\u001b[39;49m\u001b[43misin\u001b[49m\u001b[43m(\u001b[49m\u001b[43mids\u001b[49m\u001b[43m)\u001b[49m\u001b[43m,\u001b[49m\u001b[43m \u001b[49m\u001b[43m:\u001b[49m\u001b[43m]\u001b[49m\u001b[38;5;241;43m.\u001b[39;49m\u001b[43mto_memory\u001b[49m\u001b[43m(\u001b[49m\u001b[43m)\u001b[49m\n\u001b[1;32m     27\u001b[0m \u001b[38;5;66;03m# Initialize or append final AnnData\u001b[39;00m\n\u001b[1;32m     28\u001b[0m \u001b[38;5;28;01mif\u001b[39;00m final_adata \u001b[38;5;129;01mis\u001b[39;00m \u001b[38;5;28;01mNone\u001b[39;00m:\n",
      "File \u001b[0;32m~/miniconda3/envs/fcr_marina/lib/python3.9/site-packages/anndata/_core/anndata.py:1415\u001b[0m, in \u001b[0;36mAnnData.to_memory\u001b[0;34m(self, copy)\u001b[0m\n\u001b[1;32m   1403\u001b[0m new \u001b[38;5;241m=\u001b[39m {}\n\u001b[1;32m   1404\u001b[0m \u001b[38;5;28;01mfor\u001b[39;00m attr_name \u001b[38;5;129;01min\u001b[39;00m [\n\u001b[1;32m   1405\u001b[0m     \u001b[38;5;124m\"\u001b[39m\u001b[38;5;124mX\u001b[39m\u001b[38;5;124m\"\u001b[39m,\n\u001b[1;32m   1406\u001b[0m     \u001b[38;5;124m\"\u001b[39m\u001b[38;5;124mobs\u001b[39m\u001b[38;5;124m\"\u001b[39m,\n\u001b[0;32m   (...)\u001b[0m\n\u001b[1;32m   1413\u001b[0m     \u001b[38;5;124m\"\u001b[39m\u001b[38;5;124muns\u001b[39m\u001b[38;5;124m\"\u001b[39m,\n\u001b[1;32m   1414\u001b[0m ]:\n\u001b[0;32m-> 1415\u001b[0m     attr \u001b[38;5;241m=\u001b[39m \u001b[38;5;28;43mgetattr\u001b[39;49m\u001b[43m(\u001b[49m\u001b[38;5;28;43mself\u001b[39;49m\u001b[43m,\u001b[49m\u001b[43m \u001b[49m\u001b[43mattr_name\u001b[49m\u001b[43m,\u001b[49m\u001b[43m \u001b[49m\u001b[38;5;28;43;01mNone\u001b[39;49;00m\u001b[43m)\u001b[49m\n\u001b[1;32m   1416\u001b[0m     \u001b[38;5;28;01mif\u001b[39;00m attr \u001b[38;5;129;01mis\u001b[39;00m \u001b[38;5;129;01mnot\u001b[39;00m \u001b[38;5;28;01mNone\u001b[39;00m:\n\u001b[1;32m   1417\u001b[0m         new[attr_name] \u001b[38;5;241m=\u001b[39m to_memory(attr, copy)\n",
      "File \u001b[0;32m~/miniconda3/envs/fcr_marina/lib/python3.9/site-packages/anndata/_core/anndata.py:557\u001b[0m, in \u001b[0;36mAnnData.X\u001b[0;34m(self)\u001b[0m\n\u001b[1;32m    554\u001b[0m     \u001b[38;5;66;03m# This is so that we can index into a backed dense dataset with\u001b[39;00m\n\u001b[1;32m    555\u001b[0m     \u001b[38;5;66;03m# indices that aren’t strictly increasing\u001b[39;00m\n\u001b[1;32m    556\u001b[0m     \u001b[38;5;28;01mif\u001b[39;00m \u001b[38;5;28mself\u001b[39m\u001b[38;5;241m.\u001b[39mis_view:\n\u001b[0;32m--> 557\u001b[0m         X \u001b[38;5;241m=\u001b[39m \u001b[43m_subset\u001b[49m\u001b[43m(\u001b[49m\u001b[43mX\u001b[49m\u001b[43m,\u001b[49m\u001b[43m \u001b[49m\u001b[43m(\u001b[49m\u001b[38;5;28;43mself\u001b[39;49m\u001b[38;5;241;43m.\u001b[39;49m\u001b[43m_oidx\u001b[49m\u001b[43m,\u001b[49m\u001b[43m \u001b[49m\u001b[38;5;28;43mself\u001b[39;49m\u001b[38;5;241;43m.\u001b[39;49m\u001b[43m_vidx\u001b[49m\u001b[43m)\u001b[49m\u001b[43m)\u001b[49m\n\u001b[1;32m    558\u001b[0m \u001b[38;5;28;01melif\u001b[39;00m \u001b[38;5;28mself\u001b[39m\u001b[38;5;241m.\u001b[39mis_view \u001b[38;5;129;01mand\u001b[39;00m \u001b[38;5;28mself\u001b[39m\u001b[38;5;241m.\u001b[39m_adata_ref\u001b[38;5;241m.\u001b[39mX \u001b[38;5;129;01mis\u001b[39;00m \u001b[38;5;28;01mNone\u001b[39;00m:\n\u001b[1;32m    559\u001b[0m     X \u001b[38;5;241m=\u001b[39m \u001b[38;5;28;01mNone\u001b[39;00m\n",
      "File \u001b[0;32m~/miniconda3/envs/fcr_marina/lib/python3.9/functools.py:877\u001b[0m, in \u001b[0;36msingledispatch.<locals>.wrapper\u001b[0;34m(*args, **kw)\u001b[0m\n\u001b[1;32m    873\u001b[0m \u001b[38;5;28;01mif\u001b[39;00m \u001b[38;5;129;01mnot\u001b[39;00m args:\n\u001b[1;32m    874\u001b[0m     \u001b[38;5;28;01mraise\u001b[39;00m \u001b[38;5;167;01mTypeError\u001b[39;00m(\u001b[38;5;124mf\u001b[39m\u001b[38;5;124m'\u001b[39m\u001b[38;5;132;01m{\u001b[39;00mfuncname\u001b[38;5;132;01m}\u001b[39;00m\u001b[38;5;124m requires at least \u001b[39m\u001b[38;5;124m'\u001b[39m\n\u001b[1;32m    875\u001b[0m                     \u001b[38;5;124m'\u001b[39m\u001b[38;5;124m1 positional argument\u001b[39m\u001b[38;5;124m'\u001b[39m)\n\u001b[0;32m--> 877\u001b[0m \u001b[38;5;28;01mreturn\u001b[39;00m \u001b[43mdispatch\u001b[49m\u001b[43m(\u001b[49m\u001b[43margs\u001b[49m\u001b[43m[\u001b[49m\u001b[38;5;241;43m0\u001b[39;49m\u001b[43m]\u001b[49m\u001b[38;5;241;43m.\u001b[39;49m\u001b[38;5;18;43m__class__\u001b[39;49m\u001b[43m)\u001b[49m\u001b[43m(\u001b[49m\u001b[38;5;241;43m*\u001b[39;49m\u001b[43margs\u001b[49m\u001b[43m,\u001b[49m\u001b[43m \u001b[49m\u001b[38;5;241;43m*\u001b[39;49m\u001b[38;5;241;43m*\u001b[39;49m\u001b[43mkw\u001b[49m\u001b[43m)\u001b[49m\n",
      "File \u001b[0;32m~/miniconda3/envs/fcr_marina/lib/python3.9/site-packages/anndata/_core/sparse_dataset.py:660\u001b[0m, in \u001b[0;36msubset_sparsedataset\u001b[0;34m(d, subset_idx)\u001b[0m\n\u001b[1;32m    658\u001b[0m \u001b[38;5;129m@_subset\u001b[39m\u001b[38;5;241m.\u001b[39mregister(BaseCompressedSparseDataset)\n\u001b[1;32m    659\u001b[0m \u001b[38;5;28;01mdef\u001b[39;00m\u001b[38;5;250m \u001b[39m\u001b[38;5;21msubset_sparsedataset\u001b[39m(d, subset_idx):\n\u001b[0;32m--> 660\u001b[0m     \u001b[38;5;28;01mreturn\u001b[39;00m \u001b[43md\u001b[49m\u001b[43m[\u001b[49m\u001b[43msubset_idx\u001b[49m\u001b[43m]\u001b[49m\n",
      "File \u001b[0;32m~/miniconda3/envs/fcr_marina/lib/python3.9/site-packages/anndata/_core/sparse_dataset.py:442\u001b[0m, in \u001b[0;36mBaseCompressedSparseDataset.__getitem__\u001b[0;34m(self, index)\u001b[0m\n\u001b[1;32m    439\u001b[0m \u001b[38;5;66;03m# Handle masked indexing along major axis\u001b[39;00m\n\u001b[1;32m    440\u001b[0m \u001b[38;5;28;01mif\u001b[39;00m \u001b[38;5;28mself\u001b[39m\u001b[38;5;241m.\u001b[39mformat \u001b[38;5;241m==\u001b[39m \u001b[38;5;124m\"\u001b[39m\u001b[38;5;124mcsr\u001b[39m\u001b[38;5;124m\"\u001b[39m \u001b[38;5;129;01mand\u001b[39;00m np\u001b[38;5;241m.\u001b[39marray(row)\u001b[38;5;241m.\u001b[39mdtype \u001b[38;5;241m==\u001b[39m \u001b[38;5;28mbool\u001b[39m:\n\u001b[1;32m    441\u001b[0m     sub \u001b[38;5;241m=\u001b[39m ss\u001b[38;5;241m.\u001b[39mcsr_matrix(\n\u001b[0;32m--> 442\u001b[0m         \u001b[43msubset_by_major_axis_mask\u001b[49m\u001b[43m(\u001b[49m\u001b[43mmtx\u001b[49m\u001b[43m,\u001b[49m\u001b[43m \u001b[49m\u001b[43mrow\u001b[49m\u001b[43m)\u001b[49m, shape\u001b[38;5;241m=\u001b[39m(row\u001b[38;5;241m.\u001b[39msum(), mtx\u001b[38;5;241m.\u001b[39mshape[\u001b[38;5;241m1\u001b[39m])\n\u001b[1;32m    443\u001b[0m     )[:, col]\n\u001b[1;32m    444\u001b[0m \u001b[38;5;28;01melif\u001b[39;00m \u001b[38;5;28mself\u001b[39m\u001b[38;5;241m.\u001b[39mformat \u001b[38;5;241m==\u001b[39m \u001b[38;5;124m\"\u001b[39m\u001b[38;5;124mcsc\u001b[39m\u001b[38;5;124m\"\u001b[39m \u001b[38;5;129;01mand\u001b[39;00m np\u001b[38;5;241m.\u001b[39marray(col)\u001b[38;5;241m.\u001b[39mdtype \u001b[38;5;241m==\u001b[39m \u001b[38;5;28mbool\u001b[39m:\n\u001b[1;32m    445\u001b[0m     sub \u001b[38;5;241m=\u001b[39m ss\u001b[38;5;241m.\u001b[39mcsc_matrix(\n\u001b[1;32m    446\u001b[0m         subset_by_major_axis_mask(mtx, col), shape\u001b[38;5;241m=\u001b[39m(mtx\u001b[38;5;241m.\u001b[39mshape[\u001b[38;5;241m0\u001b[39m], col\u001b[38;5;241m.\u001b[39msum())\n\u001b[1;32m    447\u001b[0m     )[row, :]\n",
      "File \u001b[0;32m~/miniconda3/envs/fcr_marina/lib/python3.9/site-packages/anndata/_core/sparse_dataset.py:305\u001b[0m, in \u001b[0;36msubset_by_major_axis_mask\u001b[0;34m(mtx, mask)\u001b[0m\n\u001b[1;32m    303\u001b[0m \u001b[38;5;28;01mif\u001b[39;00m \u001b[38;5;28mlen\u001b[39m(slices) \u001b[38;5;241m>\u001b[39m \u001b[38;5;241m0\u001b[39m:\n\u001b[1;32m    304\u001b[0m     \u001b[38;5;28;01mif\u001b[39;00m mean_slice_length(slices) \u001b[38;5;241m<\u001b[39m\u001b[38;5;241m=\u001b[39m \u001b[38;5;241m7\u001b[39m:\n\u001b[0;32m--> 305\u001b[0m         \u001b[38;5;28;01mreturn\u001b[39;00m \u001b[43mget_compressed_vectors\u001b[49m\u001b[43m(\u001b[49m\u001b[43mmtx\u001b[49m\u001b[43m,\u001b[49m\u001b[43m \u001b[49m\u001b[43mnp\u001b[49m\u001b[38;5;241;43m.\u001b[39;49m\u001b[43mwhere\u001b[49m\u001b[43m(\u001b[49m\u001b[43mmask\u001b[49m\u001b[43m)\u001b[49m\u001b[43m[\u001b[49m\u001b[38;5;241;43m0\u001b[39;49m\u001b[43m]\u001b[49m\u001b[43m)\u001b[49m\n\u001b[1;32m    306\u001b[0m     \u001b[38;5;28;01melse\u001b[39;00m:\n\u001b[1;32m    307\u001b[0m         \u001b[38;5;28;01mreturn\u001b[39;00m get_compressed_vectors_for_slices(mtx, slices)\n",
      "File \u001b[0;32m~/miniconda3/envs/fcr_marina/lib/python3.9/site-packages/anndata/_core/sparse_dataset.py:257\u001b[0m, in \u001b[0;36mget_compressed_vectors\u001b[0;34m(x, row_idxs)\u001b[0m\n\u001b[1;32m    255\u001b[0m slices \u001b[38;5;241m=\u001b[39m [\u001b[38;5;28mslice\u001b[39m(\u001b[38;5;241m*\u001b[39m(x\u001b[38;5;241m.\u001b[39mindptr[i : i \u001b[38;5;241m+\u001b[39m \u001b[38;5;241m2\u001b[39m])) \u001b[38;5;28;01mfor\u001b[39;00m i \u001b[38;5;129;01min\u001b[39;00m row_idxs]\n\u001b[1;32m    256\u001b[0m data \u001b[38;5;241m=\u001b[39m np\u001b[38;5;241m.\u001b[39mconcatenate([x\u001b[38;5;241m.\u001b[39mdata[s] \u001b[38;5;28;01mfor\u001b[39;00m s \u001b[38;5;129;01min\u001b[39;00m slices])\n\u001b[0;32m--> 257\u001b[0m indices \u001b[38;5;241m=\u001b[39m np\u001b[38;5;241m.\u001b[39mconcatenate([x\u001b[38;5;241m.\u001b[39mindices[s] \u001b[38;5;28;01mfor\u001b[39;00m s \u001b[38;5;129;01min\u001b[39;00m slices])\n\u001b[1;32m    258\u001b[0m indptr \u001b[38;5;241m=\u001b[39m \u001b[38;5;28mlist\u001b[39m(accumulate(chain((\u001b[38;5;241m0\u001b[39m,), (s\u001b[38;5;241m.\u001b[39mstop \u001b[38;5;241m-\u001b[39m s\u001b[38;5;241m.\u001b[39mstart \u001b[38;5;28;01mfor\u001b[39;00m s \u001b[38;5;129;01min\u001b[39;00m slices))))\n\u001b[1;32m    259\u001b[0m \u001b[38;5;28;01mreturn\u001b[39;00m data, indices, indptr\n",
      "File \u001b[0;32m~/miniconda3/envs/fcr_marina/lib/python3.9/site-packages/anndata/_core/sparse_dataset.py:257\u001b[0m, in \u001b[0;36m<listcomp>\u001b[0;34m(.0)\u001b[0m\n\u001b[1;32m    255\u001b[0m slices \u001b[38;5;241m=\u001b[39m [\u001b[38;5;28mslice\u001b[39m(\u001b[38;5;241m*\u001b[39m(x\u001b[38;5;241m.\u001b[39mindptr[i : i \u001b[38;5;241m+\u001b[39m \u001b[38;5;241m2\u001b[39m])) \u001b[38;5;28;01mfor\u001b[39;00m i \u001b[38;5;129;01min\u001b[39;00m row_idxs]\n\u001b[1;32m    256\u001b[0m data \u001b[38;5;241m=\u001b[39m np\u001b[38;5;241m.\u001b[39mconcatenate([x\u001b[38;5;241m.\u001b[39mdata[s] \u001b[38;5;28;01mfor\u001b[39;00m s \u001b[38;5;129;01min\u001b[39;00m slices])\n\u001b[0;32m--> 257\u001b[0m indices \u001b[38;5;241m=\u001b[39m np\u001b[38;5;241m.\u001b[39mconcatenate([\u001b[43mx\u001b[49m\u001b[38;5;241;43m.\u001b[39;49m\u001b[43mindices\u001b[49m\u001b[43m[\u001b[49m\u001b[43ms\u001b[49m\u001b[43m]\u001b[49m \u001b[38;5;28;01mfor\u001b[39;00m s \u001b[38;5;129;01min\u001b[39;00m slices])\n\u001b[1;32m    258\u001b[0m indptr \u001b[38;5;241m=\u001b[39m \u001b[38;5;28mlist\u001b[39m(accumulate(chain((\u001b[38;5;241m0\u001b[39m,), (s\u001b[38;5;241m.\u001b[39mstop \u001b[38;5;241m-\u001b[39m s\u001b[38;5;241m.\u001b[39mstart \u001b[38;5;28;01mfor\u001b[39;00m s \u001b[38;5;129;01min\u001b[39;00m slices))))\n\u001b[1;32m    259\u001b[0m \u001b[38;5;28;01mreturn\u001b[39;00m data, indices, indptr\n",
      "File \u001b[0;32mh5py/_objects.pyx:54\u001b[0m, in \u001b[0;36mh5py._objects.with_phil.wrapper\u001b[0;34m()\u001b[0m\n",
      "File \u001b[0;32mh5py/_objects.pyx:55\u001b[0m, in \u001b[0;36mh5py._objects.with_phil.wrapper\u001b[0;34m()\u001b[0m\n",
      "File \u001b[0;32m~/miniconda3/envs/fcr_marina/lib/python3.9/site-packages/h5py/_hl/dataset.py:781\u001b[0m, in \u001b[0;36mDataset.__getitem__\u001b[0;34m(self, args, new_dtype)\u001b[0m\n\u001b[1;32m    779\u001b[0m \u001b[38;5;28;01mif\u001b[39;00m \u001b[38;5;28mself\u001b[39m\u001b[38;5;241m.\u001b[39m_fast_read_ok \u001b[38;5;129;01mand\u001b[39;00m (new_dtype \u001b[38;5;129;01mis\u001b[39;00m \u001b[38;5;28;01mNone\u001b[39;00m):\n\u001b[1;32m    780\u001b[0m     \u001b[38;5;28;01mtry\u001b[39;00m:\n\u001b[0;32m--> 781\u001b[0m         \u001b[38;5;28;01mreturn\u001b[39;00m \u001b[38;5;28;43mself\u001b[39;49m\u001b[38;5;241;43m.\u001b[39;49m\u001b[43m_fast_reader\u001b[49m\u001b[38;5;241;43m.\u001b[39;49m\u001b[43mread\u001b[49m\u001b[43m(\u001b[49m\u001b[43margs\u001b[49m\u001b[43m)\u001b[49m\n\u001b[1;32m    782\u001b[0m     \u001b[38;5;28;01mexcept\u001b[39;00m \u001b[38;5;167;01mTypeError\u001b[39;00m:\n\u001b[1;32m    783\u001b[0m         \u001b[38;5;28;01mpass\u001b[39;00m  \u001b[38;5;66;03m# Fall back to Python read pathway below\u001b[39;00m\n",
      "\u001b[0;31mKeyboardInterrupt\u001b[0m: "
     ]
    }
   ],
   "source": [
    "data_dir = \"/cluster/work/bewi/data/tahoe100/h5ad/\"\n",
    "metadata_path = \"/cluster/work/bewi/members/rquiles/experiments/datasets/obs_metadata.parquet\"\n",
    "\n",
    "print(\"Inspecting metadata...\")\n",
    "metadata = pd.read_parquet(metadata_path)\n",
    "\n",
    "select = metadata[(metadata[\"cell_name\"].isin(lines_select)) & (metadata[\"drug\"].isin(drugs_select))]\n",
    "\n",
    "# Determine which plates to inspect\n",
    "plates = np.unique(select[\"plate\"])\n",
    "\n",
    "# Loop through plates and append the matching rows\n",
    "final_adata = None\n",
    "\n",
    "for plate in plates:\n",
    "    print(f\"Loading {plate}...\")\n",
    "    data_path = f\"/cluster/work/bewi/data/tahoe100/h5ad/{plate}_filt_Vevo_Tahoe100M_WServicesFrom_ParseGigalab.h5ad\"\n",
    "    adata = sc.read_h5ad(data_path, backed=\"r\")\n",
    "    print(f\"Subsetting {plate}...\")\n",
    "    \n",
    "    ids = select[select[\"plate\"] == plate][\"BARCODE_SUB_LIB_ID\"].values\n",
    "    subset = adata[adata.obs_names.isin(ids), :].to_memory()\n",
    "    # Initialize or append final AnnData\n",
    "    if final_adata is None:\n",
    "        final_adata = subset\n",
    "    else:\n",
    "        final_adata = ad.concat([final_adata, subset], join=\"outer\")"
   ]
  },
  {
   "cell_type": "code",
   "execution_count": 4,
   "id": "b8153550-38a8-4e25-b033-e2022a96a8c6",
   "metadata": {},
   "outputs": [
    {
     "data": {
      "text/plain": [
       "AnnData object with n_obs × n_vars = 37067 × 62710\n",
       "    obs: 'sample', 'gene_count', 'tscp_count', 'mread_count', 'drugname_drugconc', 'drug', 'cell_line', 'sublibrary', 'BARCODE', 'pcnt_mito', 'S_score', 'G2M_score', 'phase', 'pass_filter', 'cell_name', 'plate'"
      ]
     },
     "execution_count": 4,
     "metadata": {},
     "output_type": "execute_result"
    }
   ],
   "source": [
    "final_adata"
   ]
  },
  {
   "cell_type": "code",
   "execution_count": 5,
   "id": "249f95fb-05be-4227-8b99-c95544bec623",
   "metadata": {},
   "outputs": [],
   "source": [
    "# Randomize the rows in final_adata\n",
    "n = final_adata.n_obs  # number of cells\n",
    "perm = np.random.permutation(n)\n",
    "adata = final_adata[perm, :]"
   ]
  },
  {
   "cell_type": "code",
   "execution_count": 6,
   "id": "147fb7af-42a9-4b40-a7ee-c4c7bf9f926c",
   "metadata": {},
   "outputs": [],
   "source": [
    "# Typical downstream processing of the AnnData to match the FCR method code\n",
    "file_name = \"\"\n",
    "export_path = f\"/cluster/work/bewi/members/rquiles/experiments/datasets/{file_name}.h5ad\"\n",
    "\n",
    "change_col_names = {\"drug\":\"Agg_Treatment\", \"cell_line\": \"covariates\"}\n",
    "\n",
    "## UPDATE COLUMNS NEW DATASET\n",
    "adata.obs = adata.obs.rename(columns=change_col_names)\n",
    "adata.obs[\"control\"] = adata.obs[change_col_names[\"drug\"]] == control_name\n",
    "adata.obs[\"control\"] = adata.obs[\"control\"].astype(int)\n",
    "adata.uns[\"fields\"] = []\n",
    "adata.obs[\"dose\"] = adata.obs[\"drugname_drugconc\"].str.split(\",\").str[1].astype(float)"
   ]
  },
  {
   "cell_type": "code",
   "execution_count": 7,
   "id": "66447355-2486-40be-a6bd-62418b3375f8",
   "metadata": {},
   "outputs": [],
   "source": [
    "## SUBSET TO BALANCE THE NUMBER OF CONTROLS\n",
    "idx = []\n",
    "keep_rows = []\n",
    "\n",
    "# First, find how many rows each cell_line–treatment pair has\n",
    "for cell_line in lines_select:\n",
    "    mask = (\n",
    "        (adata.obs[\"cell_name\"] == cell_line)\n",
    "        & (adata.obs[change_col_names[\"drug\"]] != control_name)\n",
    "    )\n",
    "    row_indexes = adata.obs[mask].index\n",
    "\n",
    "    # Keep all treated samples\n",
    "    n_treated = len(row_indexes)\n",
    "    if len(row_indexes) > 0:\n",
    "        keep_rows.extend(row_indexes)\n",
    "\n",
    "    # Keep number of control samples = 1/3 treated samples\n",
    "    n_controls = n_treated//3\n",
    "    mask = (\n",
    "        (adata.obs[\"cell_name\"] == cell_line)\n",
    "        & (adata.obs[change_col_names[\"drug\"]] == control_name)\n",
    "    )\n",
    "    row_indexes = adata.obs[mask].index\n",
    "    row_indexes = row_indexes[:n_controls]\n",
    "    if len(row_indexes) > 0:\n",
    "        keep_rows.extend(row_indexes)\n",
    "\n",
    "# Randomize row order\n",
    "random.shuffle(keep_rows)\n",
    "\n",
    "# Subset the AnnData object\n",
    "filtered_adata = adata[keep_rows, :]"
   ]
  },
  {
   "cell_type": "code",
   "execution_count": 8,
   "id": "1e61425e-1936-4c3f-ba78-58f9573e6085",
   "metadata": {},
   "outputs": [
    {
     "data": {
      "text/plain": [
       "View of AnnData object with n_obs × n_vars = 14922 × 62710\n",
       "    obs: 'sample', 'gene_count', 'tscp_count', 'mread_count', 'drugname_drugconc', 'Agg_Treatment', 'covariates', 'sublibrary', 'BARCODE', 'pcnt_mito', 'S_score', 'G2M_score', 'phase', 'pass_filter', 'cell_name', 'plate', 'control', 'dose'\n",
       "    uns: 'fields'"
      ]
     },
     "execution_count": 8,
     "metadata": {},
     "output_type": "execute_result"
    }
   ],
   "source": [
    "filtered_adata"
   ]
  },
  {
   "cell_type": "code",
   "execution_count": null,
   "id": "05c2e264-6efa-4861-81f5-9d9b587e283e",
   "metadata": {},
   "outputs": [],
   "source": [
    "## PREPROCESS AND EXPORT\n",
    "export_path = f\"/cluster/work/bewi/members/rquiles/experiments/datasets/{export_name}\"\n",
    "\n",
    "sc.pp.normalize_total(filtered_adata, target_sum=1e4)\n",
    "sc.pp.log1p(filtered_adata)\n",
    "sc.pp.highly_variable_genes(filtered_adata, n_top_genes=2000, subset=True)\n",
    "sc.pp.scale(filtered_adata, max_value=10)\n",
    "filtered_adata = filtered_adata[:, filtered_adata.var.highly_variable]\n",
    "filtered_adata.write(export_path)"
   ]
  }
 ],
 "metadata": {
  "kernelspec": {
   "display_name": "Python 3 (ipykernel)",
   "language": "python",
   "name": "python3"
  },
  "language_info": {
   "codemirror_mode": {
    "name": "ipython",
    "version": 3
   },
   "file_extension": ".py",
   "mimetype": "text/x-python",
   "name": "python",
   "nbconvert_exporter": "python",
   "pygments_lexer": "ipython3",
   "version": "3.9.0"
  }
 },
 "nbformat": 4,
 "nbformat_minor": 5
}
