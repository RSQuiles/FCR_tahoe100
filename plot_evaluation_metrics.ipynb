{
 "cells": [
  {
   "cell_type": "markdown",
   "id": "a48fe492-0a96-47e0-acb3-94adfcd050a0",
   "metadata": {},
   "source": [
    "This notebook should read the output files from a training, parse them and plot the evolution of evaluation metric along time."
   ]
  }
 ],
 "metadata": {
  "kernelspec": {
   "display_name": "Python 3 (ipykernel)",
   "language": "python",
   "name": "python3"
  },
  "language_info": {
   "codemirror_mode": {
    "name": "ipython",
    "version": 3
   },
   "file_extension": ".py",
   "mimetype": "text/x-python",
   "name": "python",
   "nbconvert_exporter": "python",
   "pygments_lexer": "ipython3",
   "version": "3.8.20"
  }
 },
 "nbformat": 4,
 "nbformat_minor": 5
}
